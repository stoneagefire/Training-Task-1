{
 "cells": [
  {
   "cell_type": "code",
   "execution_count": 1,
   "metadata": {},
   "outputs": [],
   "source": [
    "import glob\n",
    "import os\n",
    "from os import listdir"
   ]
  },
  {
   "cell_type": "code",
   "execution_count": 2,
   "metadata": {},
   "outputs": [],
   "source": [
    "arr = os.listdir('C:\\\\Users\\\\patel\\\\OneDrive\\\\Desktop\\\\PROMACT Training\\\\challenge2')"
   ]
  },
  {
   "cell_type": "code",
   "execution_count": 3,
   "metadata": {},
   "outputs": [],
   "source": [
    "def filename_list():\n",
    "    temp_list = []\n",
    "    for file in glob.glob('*.txt'):\n",
    "        temp_list.append(file)\n",
    "    return temp_list\n"
   ]
  },
  {
   "cell_type": "code",
   "execution_count": 5,
   "metadata": {},
   "outputs": [],
   "source": [
    "def counter(val):\n",
    "    ct = 0\n",
    "    lst = filename_list()\n",
    "    for i in lst:\n",
    "        lsts = i.split('.')\n",
    "        if len(val) == len(lsts[0]):\n",
    "            if val == lsts[0]:\n",
    "                ct+=1\n",
    "            else:\n",
    "                continue\n",
    "        else:\n",
    "            lsts = lsts[0].split('-')\n",
    "            if val == lsts[0]:\n",
    "                ct+=1\n",
    "    return ct"
   ]
  },
  {
   "cell_type": "code",
   "execution_count": 19,
   "metadata": {},
   "outputs": [],
   "source": [
    "\n",
    "def fname(nm):\n",
    "    file_list = filename_list()\n",
    "    if len(file_list) > 0:\n",
    "        for i in file_list:\n",
    "            temp = i.split('.')\n",
    "            if nm == temp[0]:\n",
    "                ct = counter(name)\n",
    "                nm = name + '-Copy('+str(ct)+')'\n",
    "                fname(nm)\n",
    "            else:\n",
    "                f = open(nm+'.txt','w+')\n",
    "    else:\n",
    "        f = open(nm+'.txt','w+')"
   ]
  },
  {
   "cell_type": "code",
   "execution_count": 20,
   "metadata": {},
   "outputs": [
    {
     "name": "stdout",
     "output_type": "stream",
     "text": [
      "\tFile copy system\n",
      "==========================================\n",
      "1. Copy file\n",
      "2. Exit\n",
      "==========================================\n",
      "File created\n",
      "\tFile copy system\n",
      "==========================================\n",
      "1. Copy file\n",
      "2. Exit\n",
      "==========================================\n",
      "Thank you\n"
     ]
    }
   ],
   "source": [
    "if __name__=='__main__':\n",
    "    while True:\n",
    "        print('\\tFile copy system')\n",
    "        print('==========================================')\n",
    "        print('1. Copy file')\n",
    "        print('2. Exit')\n",
    "        print('==========================================')\n",
    "        ch = int(input('\\nEnter choice : '))\n",
    "        if ch==1:\n",
    "            global name\n",
    "            name = input('File name :')\n",
    "            fname(name)\n",
    "            print('File created')\n",
    "\n",
    "        elif ch==2:\n",
    "            print('Thank you')\n",
    "            break\n",
    "\n",
    "        else:\n",
    "            print('Enter valid choice!')"
   ]
  },
  {
   "cell_type": "code",
   "execution_count": null,
   "metadata": {},
   "outputs": [],
   "source": []
  }
 ],
 "metadata": {
  "interpreter": {
   "hash": "8a171dd4653ba5b706ed3c60efc67fdc62c43bd06ac2d98294c0ac910e64f1b3"
  },
  "kernelspec": {
   "display_name": "Python 3.8.8 64-bit ('base': conda)",
   "language": "python",
   "name": "python3"
  },
  "language_info": {
   "codemirror_mode": {
    "name": "ipython",
    "version": 3
   },
   "file_extension": ".py",
   "mimetype": "text/x-python",
   "name": "python",
   "nbconvert_exporter": "python",
   "pygments_lexer": "ipython3",
   "version": "3.8.8"
  },
  "orig_nbformat": 4
 },
 "nbformat": 4,
 "nbformat_minor": 2
}
